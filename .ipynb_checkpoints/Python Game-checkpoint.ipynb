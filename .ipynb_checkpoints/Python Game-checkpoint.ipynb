{
 "cells": [
  {
   "cell_type": "markdown",
   "metadata": {},
   "source": [
    "PYTHON ADVENTURE GAME"
   ]
  },
  {
   "cell_type": "markdown",
   "metadata": {},
   "source": [
    "Game Rules "
   ]
  },
  {
   "cell_type": "markdown",
   "metadata": {},
   "source": [
    "-> A dictionary of all the possible locations in the game"
   ]
  },
  {
   "cell_type": "code",
   "execution_count": 10,
   "metadata": {},
   "outputs": [],
   "source": [
    "\n",
    "\n",
    "locations = {\n",
    "    0:'Clearing 1',\n",
    "    1:'Grating Room',\n",
    "    2:'Tree',\n",
    "    3:'Forest 1',\n",
    "    4:'Forest 2',\n",
    "    5:'Forest 3',\n",
    "    6:'Forest 4',\n",
    "    7:'Forest Path',\n",
    "    8:'North of House',\n",
    "    9:'West of House',\n",
    "    10:'Attic',\n",
    "    11:'Behind House',\n",
    "    12:'Strange Passage',\n",
    "    13:'Living Room',\n",
    "    14:'Kitchen',\n",
    "    15:'Clearing 2',\n",
    "    16:'Inside the Barrow',\n",
    "    17:'Zork II',\n",
    "    18:'Stone Barrow',\n",
    "    19:'South of House',\n",
    "    20:'Canyon View',\n",
    "    21:'Rocky Lodge',\n",
    "    22:'Canyon Bottom',\n",
    "    23:'End of Rainbow',\n",
    "    24:'Cellar',\n",
    "    25:'Studio'\n",
    "}\n",
    "\n",
    "directions  = {1:'North',2:'North-East',3:'East',4:'South-East',5:'South',6:'South-West',7:'West',8:'North-West'}"
   ]
  },
  {
   "cell_type": "markdown",
   "metadata": {},
   "source": [
    "->An Adjacency matrix of all the possible paths in the game map."
   ]
  },
  {
   "cell_type": "code",
   "execution_count": 11,
   "metadata": {},
   "outputs": [],
   "source": [
    "gameMap = [[0,6,0,7,3,0,0,5,0,0,0,0,0,0,0,0,0,0,0,0,0,0,0,0,0,0], #0:'Clearing 1\n",
    "           \n",
    "           [0,0,0,0,0,0,0,0,0,0,0,0,0,0,0,0,0,0,0,0,0,0,0,0,0,0], #1:'Grating Room' DIE You were grated to death\n",
    "           \n",
    "           [0,0,0,0,0,0,0,6,0,0,0,0,0,0,0,0,0,0,0,0,0,0,0,0,0,0], #2:'Tree'\n",
    "           \n",
    "           [1,0,0,0,0,5,0,3,0,0,0,0,0,0,0,0,0,0,0,0,0,0,0,0,0,0], #3:'Forest 1'  [SPAWN HERE]\n",
    "           \n",
    "           [0,0,0,0,0,0,3,7,0,0,0,0,0,0,0,5,0,0,0,0,0,0,0,0,0,0], #4:'Forest 2'  [SPAWN HERE]\n",
    "           \n",
    "           [0,0,0,7,0,0,0,0,0,0,0,0,0,0,0,1,0,0,0,8,0,0,0,0,0,0], #5:'Forest 3'  [SPAWN HERE]\n",
    "           \n",
    "           [0,0,0,0,7,0,0,0,0,0,0,0,0,0,0,0,0,0,0,0,0,0,0,0,0,0], #6:'Forest 4' Alternate paths to Forest 2 ignored  [SPAWN HERE]\n",
    "        \n",
    "           [1,0,2,7,3,0,0,0,5,0,0,0,0,0,0,0,0,0,0,0,0,0,0,0,0,0], #7:'Forest Path'\n",
    "        \n",
    "           [0,0,0,0,0,0,0,1,0,7,0,3,0,0,0,0,0,0,0,0,0,0,0,0,0,0], #8:'North of House'\n",
    "           \n",
    "           [0,0,0,7,0,0,0,0,1,0,0,0,0,0,0,0,0,0,6,5,0,0,0,0,0,0], #9:'West of House'\n",
    "           \n",
    "           [0,0,0,0,0,0,0,0,0,0,0,0,0,0,5,0,0,0,0,0,0,0,0,0,0,0], #10:'Attic'\n",
    "           \n",
    "           [0,0,0,0,0,0,0,0,1,0,0,0,0,0,7,3,0,0,0,5,0,0,0,0,0,0], #11:'Behind House'\n",
    "           \n",
    "           [0,0,0,0,0,0,0,0,0,0,0,0,0,3,0,0,0,0,0,0,0,0,0,0,0,0], #12:'Strange Passage' WON You Won!\n",
    "           \n",
    "           [0,0,0,0,0,0,0,0,0,0,0,0,7,0,3,0,0,0,0,0,0,0,0,0,5,0], #13:'Living Room'\n",
    "           \n",
    "           [0,0,0,0,0,0,0,0,0,0,1,3,0,7,0,0,0,0,0,0,0,0,0,0,0,0], #14:'Kitchen'15:'Clearing 2'\n",
    "           \n",
    "           [0,0,0,0,1,5,0,0,0,0,0,7,0,0,0,0,0,0,0,0,3,0,0,0,0,0], #15:'Clearing 2'\n",
    "\n",
    "           [0,0,0,0,0,0,0,0,0,0,0,0,0,0,0,0,0,5,3,0,0,0,0,0,0,0], #16:'Inside the Barrow' [SPAWN HERE]\n",
    "           \n",
    "           [0,0,0,0,0,0,0,0,0,0,0,0,0,0,0,0,0,0,0,0,0,0,0,0,0,0], #17:'Zork II' DIE Aliens Abduct you and you die\n",
    "\n",
    "           [0,0,0,0,0,0,0,0,0,2,0,0,0,0,0,0,7,0,0,0,0,0,0,0,0,0], #18:'Stone Barrow'\n",
    "\n",
    "           [0,0,0,0,0,5,0,0,0,7,0,3,0,0,0,0,0,0,0,0,0,0,0,0,0,0], #19:'South of House'\n",
    "\n",
    "           [0,0,0,0,0,7,0,0,0,0,0,0,0,0,0,8,0,0,0,0,0,5,0,0,0,0], #20:'Canyon View'\n",
    "\n",
    "           [0,0,0,0,0,0,0,0,0,0,0,0,0,0,0,0,0,0,0,0,1,0,5,0,0,0], #21:'Rocky Lodge'\n",
    "           \n",
    "           [0,0,0,0,0,0,0,0,0,0,0,0,0,0,0,0,0,0,0,0,0,1,0,2,0,0], #22:'Canyon Bottom' End of rainbow is to its NE [SPAWN HERE]\n",
    "           \n",
    "           [0,0,0,0,0,0,0,0,0,0,0,0,0,0,0,0,0,0,0,0,0,0,0,0,0,0], #23:'End of Rainbow' DIE you now smell of strawberries & its an ending\n",
    "           \n",
    "           [0,0,0,0,0,0,0,0,0,0,0,0,0,0,0,0,0,0,0,0,0,0,0,0,0,0], #24:'Cellar' DIE oh no you appear to be stuck and you suffocate\n",
    "           \n",
    "           [0,0,0,0,0,0,0,0,0,0,0,0,0,0,0,0,0,0,0,0,0,0,0,0,0,0]  #25:'Studio' DIE Nicki Minaj and you have a twerk-off to death\n",
    "          ]"
   ]
  },
  {
   "cell_type": "code",
   "execution_count": null,
   "metadata": {},
   "outputs": [],
   "source": [
    "\n",
    "\n"
   ]
  }
 ],
 "metadata": {
  "kernelspec": {
   "display_name": "Python 3",
   "language": "python",
   "name": "python3"
  },
  "language_info": {
   "codemirror_mode": {
    "name": "ipython",
    "version": 3
   },
   "file_extension": ".py",
   "mimetype": "text/x-python",
   "name": "python",
   "nbconvert_exporter": "python",
   "pygments_lexer": "ipython3",
   "version": "3.7.4"
  }
 },
 "nbformat": 4,
 "nbformat_minor": 2
}
